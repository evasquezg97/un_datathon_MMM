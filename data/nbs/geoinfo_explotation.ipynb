{
 "cells": [
  {
   "cell_type": "code",
   "execution_count": 1,
   "metadata": {},
   "outputs": [],
   "source": [
    "import pandas as pd"
   ]
  },
  {
   "cell_type": "code",
   "execution_count": 2,
   "metadata": {},
   "outputs": [],
   "source": [
    "df = pd.read_csv('/Users/jose/Documents/Personal/SideKicks/Connected_Parches/scrapper/Google-Maps-Scrapper/final_result_with_coordinates.csv')"
   ]
  },
  {
   "cell_type": "code",
   "execution_count": 3,
   "metadata": {},
   "outputs": [
    {
     "data": {
      "text/plain": [
       "(531, 272)"
      ]
     },
     "execution_count": 3,
     "metadata": {},
     "output_type": "execute_result"
    }
   ],
   "source": [
    "len(df), len(df.dropna(subset=['latitude', 'longitude']))"
   ]
  },
  {
   "cell_type": "code",
   "execution_count": 4,
   "metadata": {},
   "outputs": [
    {
     "data": {
      "application/vnd.plotly.v1+json": {
       "config": {
        "plotlyServerURL": "https://plot.ly"
       },
       "data": [
        {
         "customdata": [
          [
           "Footpath  cycling route along a manicured riverside corridor of trees, flowers  public artworks.   Dogs allowed",
           "Auto. S, Laureles - Estadio, Medellín, Laureles, Medellín, Antioquia, Colombia",
           4.7
          ],
          [
           "Park featuring a sand area, fountains  a green space with a garden, plus a hands-on science museum.   Dogs allowed",
           "Cra. 58 #42-125, La Candelaria, Medellín, La Candelaria, Medellín, Antioquia, Colombia",
           4.5
          ],
          [
           "Children play in this large open plaza featuring food vendors  a big screen for evening movies.   Dogs allowed",
           "Cl. 71, Aranjuez, Medellín, Aranjuez, Medellín, Antioquia, Colombia",
           4.5
          ],
          [
           "Green square  central meeting spot with food vendors, artisan craft stalls  surrounding nightlife.   Dogs allowed",
           "El Poblado, Medellín, El Poblado, Medellin, Antioquia, Colombia",
           4.4
          ],
          [
           "Busy, historic city square with many trees, benches, vendors  a notable statue.   Dogs allowed",
           "C. 50, La Candelaria, Medellín, La Candelaria, Medellin, Antioquia, Colombia",
           4.1
          ],
          [
           "Ecotourism park featuring walking  hiking trails, a food market, a gondola  adventure sports.   Dogs allowed",
           "Via a Piedras Blancas, Medellín, Antioquia, Colombia",
           4.7
          ],
          [
           "This sizable urban park features a grassy hillside for recreation, relaxing  city views.   Dogs allowed",
           "Medellín, Robledo, Medellin, Antioquia, Colombia",
           4.7
          ],
          [
           "Family-friendly theme park with a roller coaster  other rides, plus a playground, lake  eateries.",
           "Cra. 53 #76-115, Aranjuez, Medellín, Aranjuez, Medellín, Antioquia, Colombia",
           4.5
          ],
          [
           "Busy park with popular street food carts  a statue of the 19th-century general José María Córdova.   Dogs allowed",
           "Cra. 38 #54 - 97, La Candelaria, Medellín, La Candelaria, Medellín, Antioquia, Colombia",
           4.3
          ],
          [
           "Classic zoo showcasing mammals, birds  reptiles in their habitats, plus concessions.",
           "Cra. 52 #20-63, Guayabal, Medellín, Guayabal, Medellín, Antioquia, Colombia",
           4.5
          ],
          [
           "Dogs allowed",
           "Cl. 49 #63-21, Laureles - Estadio, Medellín, Laureles, Medellín, Antioquia, Colombia",
           4.5
          ],
          [
           "Dogs allowed",
           "San Cristóbal, Medellin, Antioquia, Colombia",
           4.9
          ],
          [
           null,
           "Cra. 37, El Poblado, Medellín, El Poblado, Medellín, Antioquia, Colombia",
           4.3
          ],
          [
           "Public park with walking trails  wooden bridges, plus farmers markets  childrens play areas.   Dogs allowed",
           "Cra. 39, El Poblado, Medellín, El Poblado, Medellín, Antioquia, Colombia",
           4.6
          ],
          [
           "Dogs allowed",
           "Medellín, Villa Hermosa, Medellin, Antioquia, Colombia",
           4.2
          ],
          [
           "Dine-in   Takeout   No-contact delivery",
           "Cra. 37 #8A-37, El Poblado, Medellín, El Poblado, Medellín, Antioquia, Colombia",
           4.7
          ],
          [
           "Dine-in   Takeout   Delivery",
           "Cl. 8 #37a41, El Poblado, Medellín, El Poblado, Medellín, Antioquia, Colombia",
           4.8
          ],
          [
           "Dine-in   Takeout   No-contact delivery",
           "Cl 11A #43b -9, El Poblado, Medellín, El Poblado, Medellín, Antioquia, Colombia",
           4.7
          ],
          [
           "Dine-in   Takeout   Delivery",
           "Cl. 10b #36-38, El Poblado, Medellín, El Poblado, Medellín, Antioquia, Colombia",
           4.8
          ],
          [
           "Dine-in   Takeout",
           "Cl. 47 #70-22, Laureles - Estadio, Medellín, Laureles, Medellín, Antioquia, Colombia",
           4.7
          ],
          [
           "Dine-in   Takeout   No-contact delivery",
           "Cl 10 #38-38, El Poblado, Medellín, El Poblado, Medellín, Antioquia, Colombia",
           4.6
          ],
          [
           "Laid-back restaurant offering generous burgers  wraps with fries, plus heaping nacho plates.   Dine-in   Takeout   Delivery",
           "Cra. 37 #8a-4, El Poblado, Medellín, El Poblado, Medellín, Antioquia, Colombia",
           4.5
          ],
          [
           "Dine-in   Takeout   No-contact delivery",
           "Cra 33 #8A - 41, El Poblado, Medellín, El Poblado, Medellín, Antioquia, Colombia",
           4.6
          ],
          [
           "Dine-in   Takeout   Delivery",
           "Cra 33 #7-41, El Poblado, Medellín, El Poblado, Medellín, Antioquia, Colombia",
           4.4
          ],
          [
           "Dine-in   Takeout   No-contact delivery",
           "Cl. 16 #28-60, Medellín, Buenos Aires, Medellín, Antioquia, Colombia",
           4.6
          ],
          [
           "Dine-in   Curbside pickup   Delivery",
           "Cra. 36 #8a-88, El Poblado, Medellín, El Poblado, Medellín, Antioquia, Colombia",
           4.8
          ],
          [
           "Dine-in   Takeout",
           "050021, Medellín, Antioquia, Colombia",
           4.8
          ],
          [
           "Dine-in   Takeout   No-contact delivery",
           "Cra. 37 # 8-53, El Poblado, Medellín, El Poblado, Medellín, Antioquia, Colombia",
           4.6
          ],
          [
           null,
           "Cra. 37 #10a-58, La Candelaria, Medellín, La Candelaria, Medellín, Antioquia, Colombia",
           4.3
          ],
          [
           "In-store pickup   Delivery",
           "Cl. 48 #65-58, Laureles - Estadio, Medellín, Laureles, Medellín, Antioquia, Colombia",
           4.6
          ],
          [
           "In-store shopping   In-store pickup   Delivery",
           "Centro Comercial El Tesoro, El Poblado, Medellín, El Poblado, Medellín, Antioquia, Colombia",
           4.3
          ],
          [
           "Storied, old-school market selling produce, meat  fish along with fresh flowers, souvenirs  gifts.",
           "Cra. 39 #50-25, La Candelaria, Medellín, La Candelaria, Medellín, Antioquia, Colombia",
           4.5
          ],
          [
           "Spacious indoor marketplace with produce, meat  seafood vendors in a vibrant atmosphere.",
           "Cl. 55 #57-80, La Candelaria, Medellín, La Candelaria, Medellín, Antioquia, Colombia",
           4.4
          ],
          [
           null,
           "Auto. S, Laureles - Estadio, Medellín, Laureles, Medellín, Antioquia, Colombia",
           5
          ],
          [
           null,
           "Cl. 30A # 79-133, Medellín, Belén, Medellín, Antioquia, Colombia",
           5
          ],
          [
           "Historic art venue featuring native artists Fernando Botero  Pedro Nel Gómez, plus modern works.",
           "Cl. 52 #52-43, La Candelaria, Medellín, La Candelaria, Medellín, Antioquia, Colombia",
           4.7
          ],
          [
           "Grand castle-style home-turned-museum in scenic surrounds, offering tours  temporary art exhibits.",
           "Cl. 9 Sur #32-269, El Poblado, Medellín, El Poblado, Medellín, Antioquia, Colombia",
           4.7
          ],
          [
           "Museum of modern art with a permanent collection  rotating exhibitions, plus a large movie theater.",
           "Cra. 44 #19a-100, El Poblado, Medellín, El Poblado, Medellín, Antioquia, Colombia",
           4.7
          ],
          [
           "Filled with murals  other works, this house-turned-museum of an iconic artist offers guided tours.",
           "Cra 51 B #8524, Aranjuez, Medellín, Aranjuez, Medellín, Antioquia, Colombia",
           4.7
          ],
          [
           "Elaborate, house-like mausoleums of famous Colombian politicians  artists, plus tree-shaded paths.",
           "Cra. 51 #68-68, Aranjuez, Medellín, Aranjuez, Medellín, Antioquia, Colombia",
           4.6
          ],
          [
           "Science museum with solar system exhibits  high-tech planetary dome shows, plus a cafe  gift shop.",
           "Cra. 52 #71-117, Aranjuez, Medellín, Aranjuez, Medellín, Antioquia, Colombia",
           4.8
          ],
          [
           null,
           "Cra. 53 #7375, Aranjuez, Medellín, Aranjuez, Medellín, Antioquia, Colombia",
           4.8
          ],
          [
           null,
           "Av. 80 #65224, Villa Flora, Medellín, Robledo, Medellín, Antioquia, Colombia",
           4.8
          ],
          [
           null,
           "Cra. 36 # 7-32, El Poblado, Medellín, El Poblado, Medellín, Antioquia, Colombia",
           4.6
          ],
          [
           null,
           "Cra. 37 #10 a -34, El Poblado, Medellín, El Poblado, Medellín, Antioquia, Colombia",
           4.8
          ],
          [
           null,
           "Cl 11A #42-42, El Poblado, Medellín, El Poblado, Medellín, Antioquia, Colombia",
           5
          ],
          [
           null,
           "Cra. 34 #8A-53, El Poblado, Medellín, El Poblado, Medellín, Antioquia, Colombia",
           5
          ],
          [
           null,
           "Cra. 34 #8a-42, El Poblado, Medellín, El Poblado, Medellín, Antioquia, Colombia",
           4.5
          ],
          [
           null,
           "Cra. 42A #1-15, El Poblado, Medellín, El Poblado, Medellín, Antioquia, Colombia",
           5
          ],
          [
           null,
           "Cra. 40 #51-24, La Candelaria, Medellín, La Candelaria, Medellín, Antioquia, Colombia",
           4.7
          ],
          [
           null,
           "Cl. 41 # 57 - 30, La Candelaria, Medellín, La Candelaria, Medellín, Antioquia, Colombia",
           4.8
          ],
          [
           null,
           "Cra. 42 #50A-12, La Candelaria, Medellín, La Candelaria, Medellín, Antioquia, Colombia",
           4.8
          ],
          [
           null,
           "Cra. 87 #30-65, Medellín, Belén, Medellín, Antioquia, Colombia",
           4.7
          ],
          [
           null,
           "Cra. 45D #59-1, La Candelaria, Medellín, La Candelaria, Medellín, Antioquia, Colombia",
           4.8
          ],
          [
           null,
           "Cl. 47 #4347, La Candelaria, Medellín, La Candelaria, Medellín, Antioquia, Colombia",
           4.8
          ],
          [
           null,
           "Cra. 47B #17 b sur 30, El Poblado, Medellín, El Poblado, Medellín, Antioquia, Colombia",
           4.7
          ],
          [
           null,
           "Cl. 49B #68-112, Laureles - Estadio, Medellín, Laureles, Medellín, Antioquia, Colombia",
           5
          ],
          [
           null,
           "Cra. 52 #4431, La Candelaria, Medellín, La Candelaria, Medellín, Antioquia, Colombia",
           4.6
          ],
          [
           null,
           "El Poblado, Medellín, El Poblado, Medellin, Antioquia, Colombia",
           5
          ],
          [
           null,
           "Cra. 41a #10 - 54, El Poblado, Medellín, El Poblado, Medellín, Antioquia, Colombia",
           4.8
          ],
          [
           null,
           "Cra. 76A #26-1, Medellín, Belén, Medellín, Antioquia, Colombia",
           4.3
          ],
          [
           null,
           "Cl. 59 #45-53, La Candelaria, Medellín, La Candelaria, Medellín, Antioquia, Colombia",
           4.6
          ],
          [
           null,
           "Cl. 79A #54B 006, Aranjuez, Medellín, Aranjuez, Medellín, Antioquia, Colombia",
           4.3
          ],
          [
           "Outdoor plaza showcasing 23 sculptures by artist Fernando Botero, plus landscaped grounds  benches.   Dogs allowed",
           "Av. Carabobo, La Candelaria, Medellín, La Candelaria, Medellín, Antioquia, Colombia",
           4.3
          ],
          [
           "Dogs allowed",
           "Cra. 51 #5439, La Candelaria, Medellín, La Candelaria, Medellín, Antioquia, Colombia",
           4.3
          ],
          [
           "Built in 1924  named after Francisco Javier Cisneros, this plaza features 300 dramatic light poles.   Dogs allowed",
           "Cl 44, La Candelaria, Medellín, La Candelaria, Medellín, Antioquia, Colombia",
           4.3
          ],
          [
           "Tree-studded indoor-outdoor retail plaza with a charming, old-fashioned feel  many shops  cafes.",
           "Cra. 50 #52-50, La Candelaria, Medellín, La Candelaria, Medellín, Antioquia, Colombia",
           4.4
          ],
          [
           "Leafy park with several sculptures by Fernando Botero, plus food vendors  an amphitheater.",
           "Cl 44 #50, La Candelaria, Medellín, La Candelaria, Medellín, Antioquia, Colombia",
           4
          ],
          [
           null,
           "Cra. 57 # 41-81, La Candelaria, Medellín, La Candelaria, Medellín, Antioquia, Colombia",
           4.7
          ],
          [
           "Many familiar retailers  a food court are offered at this standard mall with a bustling vibe.",
           "Cl. 45 #53 50, La Candelaria, Medellín, La Candelaria, Medellín, Antioquia, Colombia",
           4.5
          ],
          [
           "Dogs allowed",
           "Cra. 54 #42188, La Candelaria, Medellín, La Candelaria, Medellín, Antioquia, Colombia",
           4.6
          ],
          [
           null,
           "Cl. 45, La Candelaria, Medellín, La Candelaria, Medellín, Antioquia, Colombia",
           4.5
          ],
          [
           null,
           "Cra. 74 #48010, Laureles - Estadio, Medellín, Laureles, Medellín, Antioquia, Colombia",
           4.7
          ],
          [
           null,
           "Carrera 72 # 48-100, Laureles - Estadio, Medellín, Laureles, Medellín, Antioquia, Colombia",
           4.7
          ],
          [
           null,
           "Cra. 76A #1C-5, Medellín, Belén, Medellín, Antioquia, Colombia",
           4.5
          ],
          [
           null,
           "Cra. 65, Medellín, Robledo, Medellín, Antioquia, Colombia",
           4.8
          ],
          [
           null,
           "Laureles - Estadio, Medellin, Medellín, Laureles - Estadio, Medellin, Antioquia, Colombia",
           4.8
          ],
          [
           null,
           "Cl. 48 #7350, Laureles - Estadio, Medellín, Laureles, Medellín, Antioquia, Colombia",
           4.8
          ],
          [
           "In-store shopping   Curbside pickup   Delivery",
           "Cl 45B #75-20, Laureles - Estadio, Medellín, Laureles, Medellín, Antioquia, Colombia",
           4.8
          ],
          [
           null,
           "Cl. 41 #88-28, Santa Monica, Medellín, La América, Medellín, Antioquia, Colombia",
           4
          ],
          [
           null,
           "Cl. 30A #26, Medellín, Belén, Medellín, Antioquia, Colombia",
           4.1
          ],
          [
           "In-store pickup   Delivery",
           "050024, Medellín, Antioquia, Colombia",
           4.9
          ],
          [
           "In-store shopping   Curbside pickup   Delivery",
           "Cl 10 #43E-135, El Poblado, Medellín, El Poblado, Medellín, Antioquia, Colombia",
           4.4
          ],
          [
           null,
           "El Poblado, Medellín, El Poblado, Medellin, Antioquia, Colombia",
           3.5
          ],
          [
           "In-store shopping   Curbside pickup   Delivery",
           "Cra. 36 #54-96, Cabecera del llano, Bucaramanga, Santander, Colombia",
           5
          ],
          [
           "In-store shopping   Curbside pickup   Delivery",
           "Cra. 70 #1-120, Guayabal, Medellín, Guayabal, Medellín, Antioquia, Colombia",
           4.5
          ],
          [
           "In-store shopping   Curbside pickup   Delivery",
           "Cra. 48a #118-22, Medellín, Santa Cruz, Medellín, Antioquia, Colombia",
           4
          ],
          [
           "Dine-in   Curbside pickup   No-contact delivery",
           "Cra 66B #34A-25, Laureles - Estadio, Medellín, Laureles, Medellín, Antioquia, Colombia",
           4.5
          ],
          [
           "In-store shopping   In-store pickup   Delivery",
           "Cra. 44 #29-80, La Candelaria, Medellín, La Candelaria, Medellín, Antioquia, Colombia",
           4.5
          ],
          [
           "In-store shopping   Curbside pickup   Delivery",
           "Cra 66B #32D - 35, Medellín, Belén, Medellín, Antioquia, Colombia",
           4.3
          ],
          [
           "In-store shopping   In-store pickup   Delivery",
           "Cra. 65 #45-85, Laureles - Estadio, Medellín, Laureles, Medellín, Antioquia, Colombia",
           4.3
          ],
          [
           "Dine-in   Curbside pickup   No-contact delivery",
           "Cl. 67 #53 - 28, La Candelaria, Medellín, La Candelaria, Medellín, Antioquia, Colombia",
           4.2
          ],
          [
           "Dine-in   Curbside pickup   No-contact delivery",
           "Cra. 70 #43 - 31, Laureles - Estadio, Medellín, Laureles, Medellín, Antioquia, Colombia",
           4.2
          ],
          [
           "In-store pickup   Delivery",
           "Cl 10A #37-23, El Poblado, Medellín, El Poblado, Medellín, Antioquia, Colombia",
           4.6
          ],
          [
           "In-store shopping   Curbside pickup   Delivery",
           "Cra. 53 #47-22, La Candelaria, Medellín, La Candelaria, Medellín, Antioquia, Colombia",
           5
          ],
          [
           null,
           "Cra. 53 #46-49, La Candelaria, Medellín, La Candelaria, Medellín, Antioquia, Colombia",
           5
          ],
          [
           "In-store pickup   Delivery",
           "Cl. 30 # 76a - 15, Medellín, Belén, Medellín, Antioquia, Colombia",
           5
          ],
          [
           "In-store shopping   Curbside pickup   Delivery",
           "Cra. 53 # 49-82, La Candelaria, Medellín, La Candelaria, Medellín, Antioquia, Colombia",
           4.9
          ],
          [
           null,
           "Cl. 47DD #82 A 84, La Floresta, Medellín, La América, Medellín, Antioquia, Colombia",
           null
          ],
          [
           null,
           "Cl. 30A #87-217, Medellín, Belén, Medellín, Antioquia, Colombia",
           5
          ],
          [
           null,
           "050035, Calasanz, Medellín, Antioquia, Colombia",
           5
          ],
          [
           "In-store shopping   Delivery",
           "Cra. 76 #49-74, Laureles - Estadio, Medellín, Laureles, Medellín, Antioquia, Colombia",
           5
          ],
          [
           null,
           "Cra. 76 #26A-36, Medellín, Belén, Medellín, Antioquia, Colombia",
           4.5
          ],
          [
           "In-store shopping   In-store pickup   Delivery",
           "Cra 66B #1-53, Laureles - Estadio, Medellín, Laureles, Medellín, Antioquia, Colombia",
           4.8
          ],
          [
           "In-store shopping   In-store pickup   Delivery",
           "Cra. 37 #10-35, El Poblado, Medellín, El Poblado, Medellín, Antioquia, Colombia",
           4.7
          ],
          [
           "Large, contemporary center providing a wide range of retail shops, restaurants  fast-food outlets.",
           "Cra. 43A #6s-15, El Poblado, Medellín, El Poblado, Medellín, Antioquia, Colombia",
           4.6
          ],
          [
           null,
           "Cra. 35 #8A-81, El Poblado, Medellín, El Poblado, Medellín, Antioquia, Colombia",
           4.5
          ],
          [
           "Dine-in   Takeout",
           "Cl. 32F #65f-15, Medellín, Belén, Medellín, Antioquia, Colombia",
           4.8
          ],
          [
           "Dine-in   Takeout",
           "Cra. 42 #08 43, El Poblado, Medellín, El Poblado, Medellín, Antioquia, Colombia",
           4.9
          ],
          [
           "Dine-in   Curbside pickup   Delivery",
           "Cl. 34 #66b-81, Laureles - Estadio, Medellín, Laureles, Medellín, Antioquia, Colombia",
           4.8
          ],
          [
           "Dine-in   Takeout   No-contact delivery",
           "Cra 43C #10-16, El Poblado, Medellín, El Poblado, Medellín, Antioquia, Colombia",
           4.8
          ],
          [
           "Dine-in   Takeout   No-contact delivery",
           "Cl. 32B #81-41, Medellín, Belén, Medellín, Antioquia, Colombia",
           4.6
          ],
          [
           "In-store pickup   Delivery",
           "Cl. 30 #7569, Medellín, Belén, Medellín, Antioquia, Colombia",
           5
          ],
          [
           "Dine-in   Curbside pickup   No-contact delivery",
           "Cra. 34 #8a-53, El Poblado, Medellín, El Poblado, Medellín, Antioquia, Colombia",
           4.9
          ],
          [
           "Dine-in   Takeout",
           "Cra 66B #31 A 10, Medellín, Belén, Medellín, Antioquia, Colombia",
           5
          ],
          [
           "Dine-in   Curbside pickup",
           "Cra. 43E #11-37, El Poblado, Medellín, El Poblado, Medellín, Antioquia, Colombia",
           5
          ],
          [
           "Dine-in   Takeout",
           "Cl. 43 #70-33 a 70-1, Laureles - Estadio, Medellín, Laureles, Medellín, Antioquia, Colombia",
           5
          ],
          [
           "In-store pickup   Delivery",
           "Cra. 25 #3-45, El Poblado, Medellín, El Poblado, Medellín, Antioquia, Colombia",
           4.1
          ],
          [
           "Dine-in   Curbside pickup   Delivery",
           "Cl. 32B #81 - 19, Medellín, Belén, Medellín, Antioquia, Colombia",
           4.8
          ],
          [
           "Dine-in   No-contact delivery",
           "Cl 11A #42-49, El Poblado, Medellín, El Poblado, Medellín, Antioquia, Colombia",
           4.4
          ],
          [
           null,
           "Cl 11A #31a44, El Poblado, Medellín, El Poblado, Medellín, Antioquia, Colombia",
           4.9
          ],
          [
           null,
           "Cra. 84 #37-35, Santa Monica, Medellín, La América, Medellín, Antioquia, Colombia",
           4.9
          ],
          [
           null,
           "Cl. 47 #79-48, Laureles - Estadio, Medellín, Laureles, Medellín, Antioquia, Colombia",
           4.1
          ],
          [
           null,
           "Cl. 49B #74-22, Laureles - Estadio, Medellín, Laureles, Medellín, Antioquia, Colombia",
           4.7
          ],
          [
           null,
           "La Candelaria, Medellin, Medellín, La Candelaria, Medellin, Antioquia, Colombia",
           4.9
          ],
          [
           null,
           "Cl 36 #64a-78, Laureles - Estadio, Medellín, Laureles, Medellín, Antioquia, Colombia",
           5
          ],
          [
           null,
           "Cra 81B #4975, Calasanz, Medellín, La América, Medellín, Antioquia, Colombia",
           4.7
          ],
          [
           null,
           "Guarne, Antioquia, Colombia",
           4.9
          ],
          [
           null,
           "Tv 39 #N° 74 B 10, Laureles - Estadio, Medellín, Laureles, Medellín, Antioquia, Colombia",
           null
          ],
          [
           "In-store shopping   In-store pickup   Delivery",
           "Cra. 43A #31 193, La Candelaria, Medellín, La Candelaria, Medellín, Antioquia, Colombia",
           4.7
          ],
          [
           "In-store shopping   In-store pickup   Delivery",
           "Cra. 52 # 54-44, La Candelaria, Medellín, La Candelaria, Medellín, Antioquia, Colombia",
           4.8
          ],
          [
           "In-store shopping   Curbside pickup   Delivery",
           "Cl. 3 Sur #50D-29, Guayabal, Medellín, Guayabal, Medellín, Antioquia, Colombia",
           4.8
          ],
          [
           "In-store pickup   Delivery",
           "Cra. 43 #30c 28, La Candelaria, Medellín, La Candelaria, Medellín, Antioquia, Colombia",
           4.3
          ],
          [
           "In-store pickup   Delivery",
           "Cra. 70 #25-93, Medellín, Belén, Medellín, Antioquia, Colombia",
           4.6
          ],
          [
           "In-store shopping   Curbside pickup   Delivery",
           "Cra. 70 #13A 25, Medellín, Belén, Medellín, Antioquia, Colombia",
           4.4
          ],
          [
           null,
           "Cl 11A #42 - 49, El Poblado, Medellín, El Poblado, Medellín, Antioquia, Colombia",
           null
          ],
          [
           null,
           "Cl 10A #22-04, El Poblado, Medellín, El Poblado, Medellín, Antioquia, Colombia",
           null
          ],
          [
           null,
           "Cl 36 #53-35, La Candelaria, Medellín, La Candelaria, Medellín, Antioquia, Colombia",
           5
          ],
          [
           null,
           "Medellín, Robledo, Medellin, Antioquia, Colombia",
           null
          ],
          [
           null,
           "Cl. 18 #35-69 of 412, El Poblado, Medellín, El Poblado, Medellín, Antioquia, Colombia",
           null
          ],
          [
           null,
           "Av. Nutibara, Laureles - Estadio, Medellín, Laureles, Medellín, Antioquia, Colombia",
           null
          ],
          [
           null,
           "Cra. 50 #32-16, La Candelaria, Medellín, La Candelaria, Medellín, Antioquia, Colombia",
           null
          ],
          [
           null,
           "Cra. 43A #1-50, El Poblado, Medellín, El Poblado, Medellín, Antioquia, Colombia",
           null
          ],
          [
           null,
           "Cl. 39c #73-07, Laureles - Estadio, Medellín, Laureles, Medellín, Antioquia, Colombia",
           null
          ],
          [
           null,
           "Cl 10 #50-347, Guayabal, Medellín, Guayabal, Medellín, Antioquia, Colombia",
           3
          ],
          [
           null,
           "Cra. 63D #43-67, Laureles - Estadio, Medellín, Laureles, Medellín, Antioquia, Colombia",
           5
          ],
          [
           null,
           "Cl 20 # 65 26, Guayabal, Medellín, Guayabal, Medellín, Antioquia, Colombia",
           5
          ],
          [
           null,
           "Cra. 51 #32-102, La Candelaria, Medellín, La Candelaria, Medellín, Antioquia, Colombia",
           4.9
          ],
          [
           null,
           "Cra. 50c #67-51, Aranjuez, Medellín, Aranjuez, Medellín, Antioquia, Colombia",
           5
          ],
          [
           null,
           "Aranjuez, Medellín, Aranjuez, Medellin, Antioquia, Colombia",
           5
          ],
          [
           null,
           "Cl. 45A # 63B-37, Laureles - Estadio, Medellín, Laureles, Medellín, Antioquia, Colombia",
           5
          ],
          [
           null,
           "Cra. 56 #9 - 26, Guayabal, Medellín, Guayabal, Medellín, Antioquia, Colombia",
           5
          ],
          [
           null,
           "Cl. 60 / Miranda #52-60, La Candelaria, Medellín, La Candelaria, Medellín, Antioquia, Colombia",
           null
          ],
          [
           null,
           "Cl. 120 #52-86, La Frontera, Medellín, Santa Cruz, Medellín, Antioquia, Colombia",
           5
          ],
          [
           null,
           "Laureles - Estadio, Medellin, Medellín, Laureles - Estadio, Medellin, Antioquia, Colombia",
           5
          ],
          [
           null,
           "Cra. 32 #51-20, Caicedo, Medellín, Buenos Aires, Medellín, Antioquia, Colombia",
           4
          ],
          [
           null,
           "Cra 73A # 31A - 20, Medellín, Belén, Medellín, Antioquia, Colombia",
           5
          ],
          [
           null,
           "Cra. 81 #52b-162, Calasanz, Medellín, La América, Medellín, Antioquia, Colombia",
           5
          ],
          [
           null,
           "Cl 11A #42-40, El Poblado, Medellín, El Poblado, Medellín, Antioquia, Colombia",
           5
          ],
          [
           null,
           "Cl. 6 Sur #79 - 150, El Rincon, Medellín, Belén, Medellín, Antioquia, Colombia",
           null
          ],
          [
           null,
           "Av. Oriental #4766, La Candelaria, Medellín, La Candelaria, Medellín, Antioquia, Colombia",
           5
          ],
          [
           null,
           "Cl 16A Sur #48 - 30, El Poblado, Medellín, El Poblado, Medellín, Antioquia, Colombia",
           5
          ],
          [
           null,
           "Cra. 43A #1-50, El Poblado, Medellín, El Poblado, Medellín, Antioquia, Colombia",
           3.7
          ],
          [
           null,
           "Cra. 43A #31 - 106, La Candelaria, Medellín, La Candelaria, Medellín, Antioquia, Colombia",
           4.4
          ],
          [
           null,
           "Cl. 16 #45-85, El Poblado, Medellín, El Poblado, Medellín, Antioquia, Colombia",
           4.8
          ],
          [
           null,
           "Cra. 43A #34 - 95, La Candelaria, Medellín, La Candelaria, Medellín, Antioquia, Colombia",
           4.4
          ],
          [
           null,
           "La Candelaria, Medellin, Medellín, La Candelaria, Medellin, Antioquia, Colombia",
           4.4
          ],
          [
           null,
           "Cl 20 #65-64, Guayabal, Medellín, Guayabal, Medellín, Antioquia, Colombia",
           null
          ],
          [
           null,
           "Cra. 69 #46-15, Laureles - Estadio, Medellín, Laureles, Medellín, Antioquia, Colombia",
           4.6
          ],
          [
           null,
           "Cra 84E #9-29, Medellín, Belén, Medellín, Antioquia, Colombia",
           5
          ],
          [
           null,
           "Cra. 43 #33 B SUR 42, Zona 9, Envigado, Antioquia, Colombia",
           5
          ],
          [
           null,
           "C. 50 #77a-45, Laureles - Estadio, Medellín, Laureles, Medellín, Antioquia, Colombia",
           4.7
          ],
          [
           null,
           "Cl. 42C #8178, Simón Bolívar, Medellín, La América, Medellín, Antioquia, Colombia",
           null
          ],
          [
           null,
           "Cra. 76 #91-45, Kennedy, Medellín, Doce de Octubre, Medellín, Antioquia, Colombia",
           4.3
          ],
          [
           null,
           "Cra. 48 ##133, El Poblado, Medellín, Envigado, Antioquia, Colombia",
           5
          ],
          [
           null,
           "Cl. 110 #50-12, La Francia, Medellín, Santa Cruz, Medellín, Antioquia, Colombia",
           4.1
          ],
          [
           null,
           "Cra. 96 #49 -26, Metropolitano, Medellín, San Javier, Medellín, Antioquia, Colombia",
           null
          ],
          [
           null,
           "Cra. 50a &, Cl. 46, Medellín, Antioquia, Colombia",
           5
          ],
          [
           "Dogs allowed",
           "Cl. 8 #42-25, El Poblado, Medellín, El Poblado, Medellín, Antioquia, Colombia",
           4.5
          ],
          [
           "Dine-in   Curbside pickup   Delivery",
           "Cl. 8 # 43B - 132, El Poblado, Medellín, El Poblado, Medellín, Antioquia, Colombia",
           4.7
          ],
          [
           null,
           "Cra. 38 #9 A 26, El Poblado, Medellín, El Poblado, Medellín, Antioquia, Colombia",
           4.5
          ],
          [
           null,
           "Cra. 51 #41-76, La Candelaria, Medellín, La Candelaria, Medellín, Antioquia, Colombia",
           5
          ],
          [
           null,
           "Cra. 32d #9 - 17, El Poblado, Medellín, El Poblado, Medellín, Antioquia, Colombia",
           4.4
          ],
          [
           null,
           "Cl. 14 #30 -170, El Poblado, Medellín, El Poblado, Medellín, Antioquia, Colombia",
           4.6
          ],
          [
           null,
           "Cra. 37 #10A 29, El Poblado, Medellín, El Poblado, Medellín, Antioquia, Colombia",
           4.7
          ],
          [
           null,
           "Cra. 38 #9A-13, El Poblado, Medellín, El Poblado, Medellín, Antioquia, Colombia",
           4.8
          ],
          [
           null,
           "Cl. 9 #40-30, El Poblado, Medellín, El Poblado, Medellín, Antioquia, Colombia",
           4
          ],
          [
           null,
           "Cl. 6 #32-164, El Poblado, Medellín, El Poblado, Medellín, Antioquia, Colombia",
           4.4
          ],
          [
           "Dine-in   Takeout   No-contact delivery",
           "Cra. 43F #16a-8, El Poblado, Medellín, El Poblado, Medellín, Antioquia, Colombia",
           4.8
          ],
          [
           "Dine-in   Curbside pickup   Delivery",
           "Cra 43C #9 - 03, El Poblado, Medellín, El Poblado, Medellín, Antioquia, Colombia",
           4.8
          ],
          [
           "Dine-in   Takeout   No-contact delivery",
           "Cra. 44 #25-31, El Poblado, Medellín, El Poblado, Medellín, Antioquia, Colombia",
           4.7
          ],
          [
           "Dine-in   Takeout",
           "Cra. 45 #32-127, La Candelaria, Medellín, La Candelaria, Medellín, Antioquia, Colombia",
           4.8
          ],
          [
           "Airy gastropub with a vibrant atmosphere serving craft beers, plus meals  snacks.   Dine-in   Takeout   No-contact delivery",
           "Cl. 16 #43F-66, El Poblado, Medellín, El Poblado, Medellín, Antioquia, Colombia",
           4.6
          ],
          [
           "Dine-in   Takeout   No-contact delivery",
           "Av. Bolivariana #35-40, Laureles - Estadio, Medellín, Laureles, Medellín, Antioquia, Colombia",
           4.7
          ],
          [
           null,
           "Cl 39A #101a-118, San Javier, Medellín, San Javier, Medellín, Antioquia, Colombia",
           5
          ],
          [
           "Dine-in   Takeout   No-contact delivery",
           "Cl 10 #36-16, El Poblado, Medellín, El Poblado, Medellín, Antioquia, Colombia",
           4.3
          ],
          [
           "Dine-in   Curbside pickup",
           "Cl. 9A #38-26, El Poblado, Medellín, El Poblado, Medellín, Antioquia, Colombia",
           4.7
          ],
          [
           "Dine-in   Drive-through   Delivery",
           "Cl. 52 #39A16, La Candelaria, Medellín, La Candelaria, Medellín, Antioquia, Colombia",
           4.6
          ],
          [
           null,
           "Cra. 81A #42B - 26, Simón Bolívar, Medellín, La América, Medellín, Antioquia, Colombia",
           4.7
          ],
          [
           null,
           "Cra. 81A #42b16, Simón Bolívar, Medellín, La América, Medellín, Antioquia, Colombia",
           4.7
          ],
          [
           null,
           "Cra. 50 #60 - 34, Prado Centro, Medellín, La Candelaria, Medellín, Antioquia, Colombia",
           4.5
          ],
          [
           null,
           "Cra. 49 # 63a - 37, La Candelaria, Medellín, La Candelaria, Medellín, Antioquia, Colombia",
           5
          ],
          [
           null,
           "Cl. 32E #76-92, Medellín, Belén, Medellín, Antioquia, Colombia",
           4.8
          ],
          [
           null,
           "Carrera 43 &, Cl. 3 Sur, Medellín, Antioquia, Colombia",
           5
          ],
          [
           null,
           "San Javier, Medellín, San Javier, Medellin, Antioquia, Colombia",
           4.8
          ],
          [
           "Public escalators  staircases covered in colorful street murals, lined with bars  souvenir shops.",
           "#34cc-2 a 34cc-58, Cra. 110, Medellín, Antioquia, Colombia",
           4.7
          ],
          [
           null,
           "Cra. 50A #63-31, La Candelaria, Medellín, La Candelaria, Medellín, Antioquia, Colombia",
           4.7
          ],
          [
           null,
           "San Javier, Medellín, San Javier, Medellin, Antioquia, Colombia",
           4.7
          ],
          [
           "Community center offering classes for all ages in art, dance  music, plus performances  talks.",
           "Cl. 82a #52-25, Aranjuez, Medellín, Aranjuez, Medellín, Antioquia, Colombia",
           4.6
          ],
          [
           "Cultural center in an ornate Gothic-revival building with a museum, art gallery  cafe.",
           "Carrera 51 #52 01 Medellín Antioquia 050012, Medellín, Antioquia, Colombia",
           4.7
          ],
          [
           null,
           "Cra. 64B #51-64, Laureles - Estadio, Medellín, Laureles, Medellín, Antioquia, Colombia",
           4.6
          ],
          [
           null,
           "Cra. 77B #53-26, Laureles - Estadio, Medellín, Laureles, Medellín, Antioquia, Colombia",
           4.6
          ],
          [
           null,
           "Cl. 10 Sur #45-178, El Poblado, Medellín, El Poblado, Medellín, Antioquia, Colombia",
           4.7
          ],
          [
           null,
           "Cl. 16 Sur #45-25, El Poblado, Medellín, El Poblado, Medellín, Antioquia, Colombia",
           4.7
          ],
          [
           null,
           "Vereda Piedras Blancas, Santa Elena, Medellín, Antioquia, Colombia",
           4.7
          ],
          [
           null,
           "Jardín Botánico, Aranjuez, Medellín, Aranjuez, Medellín, Antioquia, Colombia",
           4.8
          ],
          [
           null,
           "Cra. 38 #18-85, El Poblado, Medellín, El Poblado, Medellín, Antioquia, Colombia",
           4.9
          ],
          [
           null,
           "Cra 77C #48 – 67, Laureles - Estadio, Medellín, Laureles, Medellín, Antioquia, Colombia",
           null
          ],
          [
           null,
           "Cra. 65B #30-95, Medellín, Belén, Medellín, Antioquia, Colombia",
           3.3
          ],
          [
           null,
           "Cra. 45 #53 - 38, La Candelaria, Medellín, La Candelaria, Medellín, Antioquia, Colombia",
           3.7
          ],
          [
           null,
           "Cra. 20 #2 sur - 185, El Poblado, Medellín, El Poblado, Medellín, Antioquia, Colombia",
           3.9
          ],
          [
           null,
           "Cra. 41 #62-5, Medellín, Villa Hermosa, Medellín, Antioquia, Colombia",
           3.3
          ],
          [
           null,
           "Cl. 56 #45-07, La Candelaria, Medellín, La Candelaria, Medellín, Antioquia, Colombia",
           4.6
          ],
          [
           null,
           "N° 55 - 310, Cl. 38, Bello, Antioquia, Colombia",
           3.8
          ],
          [
           null,
           "Cl. 44B #68a 17, Laureles - Estadio, Medellín, Laureles, Medellín, Antioquia, Colombia",
           4.9
          ],
          [
           null,
           "Cra. 45 #49-60, La Candelaria, Medellín, La Candelaria, Medellín, Antioquia, Colombia",
           4.8
          ],
          [
           null,
           "Cl. 67 # 52-20, Aranjuez, Medellín, Aranjuez, Medellín, Antioquia, Colombia",
           null
          ],
          [
           null,
           "Cl. 41 #55-80, La Candelaria, Medellín, La Candelaria, Medellín, Antioquia, Colombia",
           4.6
          ],
          [
           null,
           "Cra. 43A #8-71, El Poblado, Medellín, El Poblado, Medellín, Antioquia, Colombia",
           4.8
          ],
          [
           null,
           "Cl. 42 # 68-36, Laureles - Estadio, Medellín, Laureles, Medellín, Antioquia, Colombia",
           5
          ],
          [
           null,
           "Cra. 43 #66 - 26, Medellín, Villa Hermosa, Medellín, Antioquia, Colombia",
           4.9
          ],
          [
           null,
           "La Candelaria, Medellin, Medellín, La Candelaria, Medellin, Antioquia, Colombia",
           4.7
          ],
          [
           null,
           "Parque Lleras, El Poblado, Medellín, El Poblado, Medellín, Antioquia, Colombia",
           5
          ],
          [
           null,
           "Cl. 4 Sur #43A-145, El Poblado, Medellín, El Poblado, Medellín, Antioquia, Colombia",
           4.8
          ],
          [
           "In-store shopping   Curbside pickup   Delivery",
           "Cra. 35 #7-24 PISO 2, El Poblado, Medellín, El Poblado, Medellín, Antioquia, Colombia",
           5
          ],
          [
           null,
           "Cra. 49 #53 - 51, La Candelaria, Medellín, La Candelaria, Medellín, Antioquia, Colombia",
           4.7
          ],
          [
           null,
           "Cl 10 #34-39, El Poblado, Medellín, El Poblado, Medellín, Antioquia, Colombia",
           4.9
          ],
          [
           null,
           "Cl 10 #37-41, El Poblado, Medellín, El Poblado, Medellín, Antioquia, Colombia",
           4.7
          ],
          [
           null,
           "Cra. 43A #10-16, El Poblado, Medellín, El Poblado, Medellín, Antioquia, Colombia",
           4.8
          ],
          [
           "In-store shopping   In-store pickup   Delivery",
           "Cl. 20, El Poblado, Medellín, El Poblado, Medellín, Antioquia, Colombia",
           4.7
          ],
          [
           null,
           "Cra. 52a #39 27, La Candelaria, Medellín, La Candelaria, Medellín, Antioquia, Colombia",
           5
          ],
          [
           null,
           "Santa Elena, Medellin, Antioquia, Colombia",
           4.7
          ],
          [
           null,
           "Cra. 34 #No 1 sur 150, El Poblado, Medellín, El Poblado, Medellín, Antioquia, Colombia",
           5
          ],
          [
           null,
           "Cra. 50 #64 00, La Candelaria, Medellín, La Candelaria, Medellín, Antioquia, Colombia",
           4.7
          ],
          [
           null,
           "Cl 10A #40-19, El Poblado, Medellín, El Poblado, Medellín, Antioquia, Colombia",
           4.5
          ],
          [
           null,
           "Cra. 43E #11-38, El Poblado, Medellín, El Poblado, Medellín, Antioquia, Colombia",
           4.7
          ],
          [
           null,
           "Cl 12 Sur #51b - 29, Guayabal, Medellín, Guayabal, Medellín, Antioquia, Colombia",
           4.9
          ],
          [
           "In-store pickup   Delivery",
           "Cl. 26 #75-80, Medellín, Belén, Medellín, Antioquia, Colombia",
           4.6
          ],
          [
           "In-store shopping   Curbside pickup   Delivery",
           "Cra. 39 #49A-4, La Candelaria, Medellín, La Candelaria, Medellín, Antioquia, Colombia",
           4.5
          ],
          [
           "In-store pickup   Delivery",
           "Cl. 48C # 66-62, Laureles - Estadio, Medellín, Laureles, Medellín, Antioquia, Colombia",
           4.8
          ],
          [
           "In-store shopping   In-store pickup   Delivery",
           "Cl. 49a #38-83, La Candelaria, Medellín, La Candelaria, Medellín, Antioquia, Colombia",
           4.4
          ],
          [
           "In-store pickup   Delivery",
           "Cra. 70 #32b 34, Medellín, Belén, Medellín, Antioquia, Colombia",
           4.3
          ],
          [
           "In-store pickup   Delivery   In-store shopping",
           "Cl. 54 #47-105, La Candelaria, Medellín, La Candelaria, Medellín, Antioquia, Colombia",
           null
          ],
          [
           "In-store pickup   Delivery",
           "Cra. 70 #19-63, Medellín, Belén, Medellín, Antioquia, Colombia",
           4.9
          ],
          [
           null,
           "Cl. 3 Sur #41-65, El Poblado, Medellín, El Poblado, Medellín, Antioquia, Colombia",
           null
          ],
          [
           null,
           "Cra. 49 #44-94 L -194, La Candelaria, Medellín, La Candelaria, Medellín, Antioquia, Colombia",
           4.5
          ],
          [
           null,
           "Cl. 8 #42-25, El Poblado, Medellín, El Poblado, Medellín, Antioquia, Colombia",
           4.7
          ],
          [
           null,
           "C. 50 #43-65, La Candelaria, Medellín, La Candelaria, Medellín, Antioquia, Colombia",
           4.5
          ],
          [
           "Swimming, soccer  gym facilities in a leafy space named after a renowned Columbian soccer player.",
           "Cra 66B #31a15, Medellín, Belén, Medellín, Antioquia, Colombia",
           4.7
          ],
          [
           null,
           "Cl. 41A #70-42, Laureles - Estadio, Medellín, Laureles, Medellín, Antioquia, Colombia",
           4.1
          ],
          [
           null,
           "Cl. 47D #75-276, Laureles - Estadio, Medellín, Laureles, Medellín, Antioquia, Colombia",
           4.5
          ],
          [
           "Dine-in   Takeout",
           "Cl 10 #35-33, El Poblado, Medellín, El Poblado, Medellín, Antioquia, Colombia",
           4.2
          ],
          [
           null,
           "Cl 44 #75-21, Laureles - Estadio, Medellín, Laureles, Medellín, Antioquia, Colombia",
           4.8
          ],
          [
           null,
           "Cra. 39 #845, El Poblado, Medellín, El Poblado, Medellín, Antioquia, Colombia",
           4.3
          ],
          [
           null,
           "Cra. 43 #30 - 25, La Candelaria, Medellín, La Candelaria, Medellín, Antioquia, Colombia",
           4.2
          ],
          [
           null,
           "Laureles - Estadio, Medellin, Medellín, Laureles - Estadio, Medellin, Antioquia, Colombia",
           4.7
          ],
          [
           null,
           "Cl. 48 #70-10, Laureles - Estadio, Medellín, Laureles, Medellín, Antioquia, Colombia",
           4.7
          ],
          [
           null,
           "El Poblado, Medellín, El Poblado, Medellin, Antioquia, Colombia",
           4.7
          ],
          [
           null,
           "Cra. 43E #11 37, El Poblado, Medellín, El Poblado, Medellín, Antioquia, Colombia",
           4.5
          ],
          [
           null,
           "Cra. 32d #10 - 17, El Poblado, Medellín, El Poblado, Medellín, Antioquia, Colombia",
           4.9
          ],
          [
           null,
           "Cl. 39c #73-7, Laureles - Estadio, Medellín, Laureles, Medellín, Antioquia, Colombia",
           4.6
          ],
          [
           null,
           "Cra. 70 #1-283, Medellín, Belén, Medellín, Antioquia, Colombia",
           4.5
          ]
         ],
         "hovertemplate": "<b>%{hovertext}</b><br><br>latitude=%{lat}<br>longitude=%{lon}<br>description=%{customdata[0]}<br>address=%{customdata[1]}<br>average rating=%{customdata[2]}<extra></extra>",
         "hovertext": [
          "Parques del Río",
          "Parque de los Pies Descalzos",
          "Parque de los Deseos",
          "Parque de El Poblado",
          "Parque Berrío",
          "Parque Arví",
          "Parque Natural Cerro El Volador",
          "Parque Norte",
          "Parque de Boston",
          "Parque de la Conservación",
          "Suramericana Park",
          "El Moral Nature preserve",
          "Natural Park",
          "Presidenta Park",
          "Lago Los Patos Ecological Park",
          "Coffee Shop Pergamino Cafe",
          "Café Noir Bar & Lounge",
          "Hija Mía Coffee MANILA",
          "PERGAMINO Café Calle 10B, Medellín",
          "Selva Café & Arte",
          "Restaurante Mondongo's El Poblado",
          "37 Park Medellín | Restaurante Bar",
          "La Causa",
          "El Botánico Restaurante",
          "Restaurante Hatoviejo",
          "Andaluf",
          "MAL DE OJO ROOFTOP MEDELLIN",
          "Bonhomía",
          "Ceres Organic Market",
          "Tienda De Comercio Justo Colyflor - Fundación Colyflor",
          "MerkaOrgánico",
          "Placita de Flórez",
          "Plaza Minorista José María Villa",
          "Mercados Campesinos (Local farmers market)",
          "Terra Liber",
          "Museum of Antioquia",
          "El Castillo Museum and Gardens",
          "Medellin Modern Art Museum",
          "Fundación Casa Museo Maestro Pedro Nel Gómez",
          "Cementerio Museo San Pedro",
          "Planetarium Jesus Emilio Ramirez Medellin",
          "Aquarium Medellin",
          "Geosciences Mineralogy Museum",
          "COOLTO Art Lodge",
          "Galería Duque Arango",
          "Galería Pictopia",
          "Baryshev Art Gallery",
          "Galería Duque Arango Contemporaneo",
          "Aspro Art Gallery",
          "Teatro Pablo Tobón Uribe",
          "Teatro Metropolitano de Medellín - José Gutierrez Gómez",
          "Pequeño Teatro de Medellín",
          "University of Medellín Theater",
          "Águila Descalza Prado Theatre",
          "Teatro Matacandelas",
          "Casa Teatro El Poblado",
          "Neverland Escuela de Teatro Musical",
          "Comfama Vásquez Building",
          "Laureles",
          "בית חב\"ד מדג'ין - Chabad Medellin",
          "Preventorio Belen",
          "Integrate Medellin",
          "J.A.C EL BOSQUE",
          "Plaza Botero - Medellín, Antioquia",
          "Plazuela Nutibara",
          "Plaza Cisneros",
          "Unión Plaza Centro Comercial",
          "San Antonio Park",
          "Plaza Mayor, Medellín",
          "Centro Comercial Gran Plaza",
          "Plaza de La Libertad",
          "Plaza de las Luces Medellin.",
          "Atanasio Girardot Stadium",
          "Medellin Aquatic Complex",
          "Sports Unit Belén Rincón",
          "Coliseum",
          "Medellín Sports Coliseum",
          "Aquatic Complex Atanasio Girardot",
          "JLB Sports",
          "REBAJAS MEDELLIN",
          "Zaffari Sport",
          "Patines Cityrun",
          "Éxito",
          "Zonazul Mercado Saludable",
          "Cero Waste - Mercado Ecológico",
          "PriceSmart",
          "EcoShopping",
          "Éxito",
          "Jumbo",
          "Éxito La 33",
          "Jumbo",
          "éxito Vecino Aventura",
          "Éxito La 70",
          "Orgánika Healthy Store",
          "Organic Nails Medellin Megacentro",
          "Professional Beauty Shop",
          "GOVE NAILS BELÉN",
          "Tienda Naturista Annie Naturals",
          "PR Natural Cosmetics",
          "Natural lashes",
          "Witchy natural cosmetics",
          "Fuxion Medellin",
          "COMPRA DE RECICLAJE",
          "Reevapers Laureles",
          "MAKENO",
          "Oviedo",
          "VIDA AUGUSTA",
          "Alma Natura",
          "Real Vegetal",
          "Shottas Medellín Vegan Food",
          "Helecho Vegan Sushi",
          "Vegarden El Jardín de las Delicias",
          "Almendra Alimentación Integral",
          "Batido. Smoothies & Paninis",
          "Juguería Del Hijo El Dios Simeon",
          "The Juice Bar",
          "Disfruta 100% fruta",
          "Berry Healthy",
          "Vibras Café",
          "Carulla Poblado",
          "Jazzy Maids Empreza De Aseo - Servicio de limpieza",
          "Terapias de Relajación Medellín / Masajes en Medellín",
          "Aportar Vida - Medellín",
          "GANGES - YOGA ESTUDIO - MEDELLIN",
          "Govindas Escuela de Yoga - Medellín",
          "AYA Retreat formerly Guacamayo",
          "Ciencia de la Espiritualidad Kirpal Ashram",
          "Ayahuasca House",
          "Zensei Master",
          "Bike House",
          "Bike Factory Medellin - Tienda de Bicicletas",
          "Sabotage Bike Shop",
          "Zona GW",
          "Villalbike Bicicletas",
          "Medellin In Bike",
          "Electric Vehicle Charging Station",
          "Electric Vehicle Charging Station",
          "Electric Vehicle Charging Station",
          "Electric Vehicle Charging Station",
          "Electric Vehicle Charging Station",
          "Electric Vehicle Charging Station",
          "Electric Vehicle Charging Station",
          "Electric Vehicle Charging Station",
          "EPM Charging Station",
          "Celsia Charging Station",
          "Reciclaje \"El Primo\"",
          "Scrap Service SAS",
          "LITO S.A.S",
          "Recicladora Cardona García",
          "Máquina Ciclo - Estación Universidad",
          "Fundación Recuperambiente - Reciclaje",
          "EXCEDENTES LA MILAGROSA",
          "Coomulvi",
          "EcoPaisa S.A.S",
          "ECA Reciclajes Willy",
          "Unidad Productiva de Reciclaje Los Puentes",
          "MUNDO SOS",
          "Nordicol Group",
          "Enrretech",
          "Enereco Solar S.A.S.",
          "Solar On Colombia",
          "Rayos Verdes SAS | Energía Solar",
          "SOLARGREEN",
          "Greenforest",
          "Experimentality",
          "Tecnologia para el sector social",
          "ServiFumigaciones",
          "Ecocleaning - Servicio de limpieza",
          "Action Clean S.A.S.",
          "Clean And Fresh Medellín",
          "Grupo Hope S.A.S.",
          "Green Laundry Medellin",
          "Procleaner S.A.S. - Productos Limpiadores Biodegradables",
          "Susanita Díaz community garden",
          "Huerta comunitaria Zúñiga",
          "UDS MIS PULGUITAS",
          "Vivero Los Pinos",
          "Medellín: Coffee Farm Tour in Barrio La Sierra",
          "Parque Lineal La Presidenta",
          "Urbania Café",
          "Medellin City Services",
          "Free Walking Tour Medellin - Real City Tours",
          "Selina Medellin",
          "EcoHub Medellin Hotel",
          "The Click Clack Hotel Medellín",
          "Marquee Hotel Medellín",
          "Lleras Green Hotel",
          "Bambú Glamping Ecolodge",
          "Bipolar Brewing Co",
          "Métropole Beer Lab - Poblado / Cerveza artesanal / Craft beer",
          "Cervecería Libre",
          "La Planta Urban Pub",
          "20Mission Cerveza : Cerveza Artesanal & Gastropub - Musica en Vivo Poblado",
          "Punta Arena",
          "Dominion Brewing, SAS",
          "Medellín Beer Factory",
          "Craft Beer Store",
          "Villamil Craft Beer",
          "School of Fine Arts and Ceramics",
          "Marmolina y Country",
          "La Alegria de Pintar taller de pintura",
          "Centro Cultural Plazarte",
          "Casa Estudio Pequeños Artistas",
          "PolygonUs",
          "Graffitour, Comuna 13",
          "Comuna 13",
          "Casa Tres Patios",
          "Comuna 13 Tours",
          "Moravia Cultural Center",
          "Palace of Culture Rafael Uribe Uribe",
          "Faculty of Arts Cultural Center",
          "Casa De La Cultura Los Colores",
          "Faith and Cultures Center",
          "Cultural and Youth Center El Poblado",
          "Ignacio Velez Escobar Environmental & Cultural Center",
          "Fiesta Del Libro Y La Cultura",
          "Urgent Care Colombia",
          "zen health center",
          "Clínica Medellín Sede Occidente",
          "Fracture Clinic Medellin - Home Center",
          "Clínica Rosario - Poblado",
          "Clinica El Rosario",
          "Centro Médico Bioenergético Saint Germain",
          "E.S.E Hospital Mental de Antioquia de Antioquia María Upegui - HOMO",
          "Centro de rehabilitación Brujula Salud Mental",
          "Neurohelp - TDAH en Medellín",
          "MENTEG INSTITUTE FOR MENTAL WELFARE",
          "ACI Medellín",
          "Eco Tours Colombia Medellin",
          "Green Bike Tours Medellin",
          "Aventurate Colombia Natural",
          "Tourism Medellin",
          "Hosting Medellin",
          "Medellín Trip Colombia",
          "SOUVENIRS Y ARTESANÍAS MEDELLÍN PROVENZA",
          "Our Artisan Shop",
          "Artesanías Colombia mia",
          "TE AMO MEDELLIN SOUVENIRS",
          "Nuestra Tienda Artesanal",
          "Tienda de Regalos Mamm Museo de Arte Moderno de Medellín",
          "Artesanias La 70 Ltda",
          "CARIVA Eventos",
          "Matrimonios Medellín - Wedding Planner - Lugares - Planner 360",
          "EVENTOS CASA PRADO",
          "The Somos Beats Hotel & Rooftop",
          "ZIRUMA TIKI BAR",
          "The Origins",
          "Pet Shop Medellin",
          "MANAGRO",
          "Amiscot Pet Community",
          "El Agro de mi Mascota",
          "Holamascota.com pet store",
          "Natural Pet Shop",
          "Pet´s Art",
          "Ecomining Colombia",
          "Empresa de Desarrollo Urbano - EDU",
          "Rango Boutique Hostel",
          "Club Medellín",
          "Unidad Deportiva de Belén Andrés Escobar Saldarriaga",
          "Medellín Sports Bar",
          "INDER Medellin Mayor's Office",
          "¡Ay Wey! Bar & Grill",
          "Master Billiards Club",
          "Luxury Club Medellin",
          "sportroof",
          "Ivan de Bedout Arena",
          "COLISEUM GUILLERMO GAVIRIA FIGHTER",
          "BLOOM Eco-Working (Loma Los Parras - El Tesoro)",
          "COWORK Medellin - by Los Patios Hostel",
          "Cowork Selina Medellin",
          "Semilla Cafe Coworking S.A.S.",
          "Coworking Arkadia"
         ],
         "lat": [
          6.2464119,
          6.2604088,
          6.2675295,
          6.227259,
          6.2496895,
          6.2688909,
          6.27947445,
          6.2833761,
          6.229625,
          6.223775099999999,
          6.2599111,
          6.2932501,
          6.1971754,
          6.1863523,
          6.2537332,
          6.2082227,
          6.2091283,
          6.2117251,
          6.2106451,
          6.2525937,
          6.2096294,
          6.1971754,
          6.2064064,
          6.2064064,
          6.2147899,
          6.211616,
          6.227259,
          6.1971754,
          6.2429449,
          6.2535532,
          6.19702045,
          6.2500866,
          6.2525127,
          6.2464119,
          6.2323087,
          6.2471116,
          6.19027165,
          6.2239589,
          6.2860544,
          6.279085,
          6.2690154,
          6.2833761,
          6.2734074,
          6.192228,
          6.1971754,
          6.2117251,
          6.2077605,
          6.2077605,
          6.2022945,
          6.2434071,
          6.242477,
          6.2521135,
          6.2325364,
          6.2538528,
          6.2480047,
          6.188117999999999,
          6.2576039,
          6.2475635,
          6.227259,
          6.2105932,
          6.2252142,
          6.2588044,
          6.2734469,
          6.2475635,
          6.2383244,
          6.2477328,
          6.2412528,
          6.2477328,
          6.2536575,
          6.2455891,
          6.2367797,
          6.2455891,
          6.2483014,
          6.2480611,
          6.2252142,
          6.2664893,
          6.2569524,
          6.2535532,
          6.2508731,
          6.2503006,
          6.2325235,
          6.214512166666666,
          6.2119995,
          6.227259,
          7.1149053,
          6.2290448,
          6.3058397,
          6.2398475,
          6.2394563,
          6.238312,
          6.2579258,
          6.2643966,
          6.258591,
          6.2111042,
          6.2605638,
          6.2605638,
          6.2311634,
          6.2605638,
          6.2596502,
          6.2333171,
          6.2639372,
          6.2424685,
          6.2312782,
          6.2398475,
          6.2098106,
          6.2227272,
          6.1855621,
          6.2387017,
          6.2204231,
          6.2406471,
          6.2113407,
          6.2360536,
          6.2311634,
          6.2077605,
          6.238711,
          6.2128759,
          6.24389,
          6.1955227,
          6.2360536,
          6.2117251,
          6.2117251,
          6.2449304,
          6.2525937,
          6.2576039,
          6.2505337,
          6.2438916,
          6.2650557,
          6.2800171,
          6.24389,
          6.2353257,
          6.2475635,
          6.2049335,
          6.25354,
          6.2359434,
          6.2359434,
          6.2117251,
          6.2111042,
          6.2364056,
          6.27947445,
          6.227259,
          6.2434114,
          6.2412528,
          6.2227272,
          6.2456846,
          6.2138248,
          6.2470687,
          6.2229475,
          6.2383244,
          6.2831811,
          6.2805129,
          6.2516857,
          6.2121005,
          6.2597569,
          6.3054394,
          6.2569524,
          6.2391201,
          6.2228712,
          6.2697352,
          6.2136341,
          6.204538175413264,
          6.246675727766092,
          6.185655969375942,
          6.2227272,
          6.230094825382436,
          6.21503425,
          6.2350031,
          6.2505337,
          6.222988057397759,
          6.2514072309801705,
          6.22078885,
          6.1701348,
          6.2561291,
          6.248697570054934,
          6.28723498524165,
          6.1884606,
          6.300443257822422,
          6.25732195,
          6.26437445,
          6.209232298768811,
          6.2097783,
          6.209375,
          6.234409886473039,
          6.2078053,
          6.214839533319338,
          6.2104096,
          6.220939467742459,
          6.20950207738814,
          6.2053137,
          6.221644638570897,
          6.201070485412709,
          6.2248335923252744,
          6.240582781667418,
          6.2170996,
          6.239974652764083,
          6.252768311971651,
          6.208807376944939,
          6.206440758024091,
          6.247127659499676,
          6.246166786625345,
          6.246166786625345,
          6.263500012098734,
          6.24507365,
          6.237295078866017,
          6.19920035,
          6.2568002,
          6.250523030033584,
          6.2530503500000005,
          6.2568002,
          6.27692655,
          6.257977871635603,
          6.242900258612897,
          6.2651048,
          6.195181,
          6.19063944544789,
          6.2870462,
          6.27053165,
          6.220939467742459,
          6.260619044634734,
          6.2326089,
          6.240582781667418,
          6.1937221000000005,
          6.25562805,
          6.2491066,
          6.323897620783762,
          6.2502683,
          6.240582781667418,
          6.2640357,
          6.242288696885284,
          6.2253650463172505,
          6.247877852734658,
          6.256432091364709,
          6.2505337,
          6.2088943,
          6.19357273990191,
          6.227259,
          6.24507365,
          6.209754041417823,
          6.209754041417823,
          6.2253650463172505,
          6.224077292697416,
          6.2536621864202875,
          6.2105174,
          6.208833617238483,
          6.237713798840021,
          6.2105061,
          6.209828045837156,
          6.196164223101306,
          6.227749893511775,
          6.250385507840545,
          6.259385420761203,
          6.25148186905873,
          6.23155035,
          6.254740891635066,
          6.23155035,
          6.19920035,
          6.2505337,
          6.209232298768811,
          6.246132761911735,
          6.2386127,
          6.247377160257915,
          6.2562732,
          6.209754041417823,
          6.248443834575995,
          6.2059477758755905,
          6.250893700000001,
          6.2569524,
          6.258079384196866,
          6.227259,
          6.209828045837156,
          6.208051819290722,
          6.24561499307376,
          6.23155035
         ],
         "legendgroup": "",
         "lon": [
          -75.5803063,
          -75.5720715,
          -75.5657492,
          -75.5719699,
          -75.5684762,
          -75.498532,
          -75.59344289881992,
          -75.5639997,
          -75.5665613,
          -75.580029981588,
          -75.5930803,
          -75.63450495657575,
          -75.5697176,
          -75.5736445,
          -75.5489418,
          -75.5671131,
          -75.5711224,
          -75.5642072,
          -75.5658813,
          -75.5895909,
          -75.5676968,
          -75.5697176,
          -75.5642389,
          -75.5642389,
          -75.5590631,
          -75.5649329,
          -75.5719699,
          -75.5697176,
          -75.5591767,
          -75.5856961,
          -75.5591826240879,
          -75.5569076,
          -75.5639276,
          -75.5803063,
          -75.5913797,
          -75.5581675,
          -75.56964338059701,
          -75.5742571,
          -75.5608852,
          -75.5623276,
          -75.56610527470656,
          -75.5639997,
          -75.593089,
          -75.5708444,
          -75.5697176,
          -75.5642072,
          -75.5652178,
          -75.5652178,
          -75.5714003,
          -75.5618582,
          -75.5735238,
          -75.5592649,
          -75.609701,
          -75.5611158,
          -75.5718894,
          -75.58063424013655,
          -75.5854958,
          -75.5705812,
          -75.5719699,
          -75.5689635,
          -75.5975743,
          -75.5715823,
          -75.5601773,
          -75.5705812,
          -75.5731141,
          -75.5787519,
          -75.5711443,
          -75.5787519,
          -75.5750147,
          -75.5695653,
          -75.5757734,
          -75.5695653,
          -75.5936548,
          -75.5914121,
          -75.5975743,
          -75.5770838,
          -75.5826835,
          -75.5856961,
          -75.5949085,
          -75.6085293,
          -75.6036326,
          -75.58747378333334,
          -75.5747158,
          -75.5719699,
          -73.108393,
          -75.5913486,
          -75.5497015,
          -75.5893775,
          -75.5680822,
          -75.5867056,
          -75.5803428,
          -75.5674954,
          -75.5860942,
          -75.5696074,
          -75.5681167,
          -75.5681167,
          -75.6040513,
          -75.5681167,
          -75.6018122,
          -75.5839284,
          -75.5986367,
          -75.5969108,
          -75.5961934,
          -75.5893775,
          -75.566372,
          -75.5693286,
          -75.5715555,
          -75.5863478,
          -75.5682012,
          -75.5968569,
          -75.5718493,
          -75.5913106,
          -75.6040513,
          -75.5652178,
          -75.5874724,
          -75.5731082,
          -75.5943766,
          -75.5585233,
          -75.5913106,
          -75.5642072,
          -75.5642072,
          -75.6063411,
          -75.5895909,
          -75.5854958,
          -75.5667115,
          -75.6001294,
          -75.5986098,
          -75.4426875,
          -75.5943766,
          -75.5701446,
          -75.5705812,
          -75.5837243,
          -75.5592343,
          -75.5915853,
          -75.5915853,
          -75.5642072,
          -75.5696074,
          -75.5704713,
          -75.59344289881992,
          -75.5719699,
          -75.5936544,
          -75.5711443,
          -75.5693286,
          -75.5928897,
          -75.5787242,
          -75.5820022,
          -75.5850175,
          -75.5731141,
          -75.5599751,
          -75.5655199,
          -75.5964773,
          -75.5854289,
          -75.5707415,
          -75.5554274,
          -75.5826835,
          -75.5556059,
          -75.5955064,
          -75.5964414,
          -75.57361230000001,
          -75.59907038263646,
          -75.56634196473199,
          -75.56952144141185,
          -75.5693286,
          -75.5697821788025,
          -75.5607023,
          -75.570971,
          -75.5667115,
          -75.58517544809992,
          -75.58717036700284,
          -75.60827455,
          -75.587415,
          -75.58102915,
          -75.60330701434022,
          -75.58208132142789,
          -75.58301095,
          -75.55259867811628,
          -75.61233215,
          -75.5610794,
          -75.57140525045264,
          -75.5728254,
          -75.5674199,
          -75.574789613349,
          -75.5640731,
          -75.57511998957793,
          -75.5663346,
          -75.56566529702424,
          -75.56988013743744,
          -75.5639496,
          -75.57153095909997,
          -75.57567980528488,
          -75.57433236109794,
          -75.5688666181468,
          -75.5725202,
          -75.58925330282989,
          -75.6189441969075,
          -75.56112009146928,
          -75.55367792401508,
          -75.55818297622487,
          -75.60318218666521,
          -75.60318218666521,
          -75.5605029721274,
          -75.5693938,
          -75.59573455336354,
          -75.56882295,
          -75.6137847,
          -75.6220762087699,
          -75.5670088,
          -75.6137847,
          -75.5644345,
          -75.56580081851212,
          -75.58259377056365,
          -75.59150787721396,
          -75.5760883,
          -75.57810269627224,
          -75.5086853,
          -75.56353201197192,
          -75.56566529702424,
          -75.59448071520391,
          -75.58442771992165,
          -75.5688666181468,
          -75.5574858856288,
          -75.55582584999999,
          -75.55699795000001,
          -75.55920460211279,
          -75.58686285,
          -75.5688666181468,
          -75.56315085,
          -75.57721233258805,
          -75.56915058927414,
          -75.58966257163765,
          -75.55726912535518,
          -75.5667115,
          -75.56777287234985,
          -75.55612828537609,
          -75.5719699,
          -75.5693938,
          -75.56822410113557,
          -75.56822410113557,
          -75.56915058927414,
          -75.57476685061584,
          -75.56899082860309,
          -75.4980407,
          -75.56493737540856,
          -75.57262744725391,
          -75.568109,
          -75.5740907098957,
          -75.58380998171447,
          -75.59675350154357,
          -75.5567095838574,
          -75.5932625767368,
          -75.57349572448446,
          -75.5914573,
          -75.57061875130344,
          -75.5914573,
          -75.56882295,
          -75.5667115,
          -75.57140525045264,
          -75.5607872347712,
          -75.58747174999999,
          -75.58976275451602,
          -75.593339,
          -75.56822410113557,
          -75.58162646512751,
          -75.56873711717228,
          -75.56099185,
          -75.5826835,
          -75.59435679693328,
          -75.5719699,
          -75.5740907098957,
          -75.5635786276453,
          -75.59323274276036,
          -75.5914573
         ],
         "marker": {
          "color": "#636efa"
         },
         "mode": "markers",
         "name": "",
         "showlegend": false,
         "subplot": "mapbox",
         "type": "scattermapbox"
        }
       ],
       "layout": {
        "height": 600,
        "legend": {
         "tracegroupgap": 0
        },
        "mapbox": {
         "center": {
          "lat": 6.239689403757059,
          "lon": -75.56639475881036
         },
         "domain": {
          "x": [
           0,
           1
          ],
          "y": [
           0,
           1
          ]
         },
         "style": "open-street-map",
         "zoom": 10
        },
        "margin": {
         "t": 60
        },
        "template": {
         "data": {
          "bar": [
           {
            "error_x": {
             "color": "#2a3f5f"
            },
            "error_y": {
             "color": "#2a3f5f"
            },
            "marker": {
             "line": {
              "color": "#E5ECF6",
              "width": 0.5
             },
             "pattern": {
              "fillmode": "overlay",
              "size": 10,
              "solidity": 0.2
             }
            },
            "type": "bar"
           }
          ],
          "barpolar": [
           {
            "marker": {
             "line": {
              "color": "#E5ECF6",
              "width": 0.5
             },
             "pattern": {
              "fillmode": "overlay",
              "size": 10,
              "solidity": 0.2
             }
            },
            "type": "barpolar"
           }
          ],
          "carpet": [
           {
            "aaxis": {
             "endlinecolor": "#2a3f5f",
             "gridcolor": "white",
             "linecolor": "white",
             "minorgridcolor": "white",
             "startlinecolor": "#2a3f5f"
            },
            "baxis": {
             "endlinecolor": "#2a3f5f",
             "gridcolor": "white",
             "linecolor": "white",
             "minorgridcolor": "white",
             "startlinecolor": "#2a3f5f"
            },
            "type": "carpet"
           }
          ],
          "choropleth": [
           {
            "colorbar": {
             "outlinewidth": 0,
             "ticks": ""
            },
            "type": "choropleth"
           }
          ],
          "contour": [
           {
            "colorbar": {
             "outlinewidth": 0,
             "ticks": ""
            },
            "colorscale": [
             [
              0,
              "#0d0887"
             ],
             [
              0.1111111111111111,
              "#46039f"
             ],
             [
              0.2222222222222222,
              "#7201a8"
             ],
             [
              0.3333333333333333,
              "#9c179e"
             ],
             [
              0.4444444444444444,
              "#bd3786"
             ],
             [
              0.5555555555555556,
              "#d8576b"
             ],
             [
              0.6666666666666666,
              "#ed7953"
             ],
             [
              0.7777777777777778,
              "#fb9f3a"
             ],
             [
              0.8888888888888888,
              "#fdca26"
             ],
             [
              1,
              "#f0f921"
             ]
            ],
            "type": "contour"
           }
          ],
          "contourcarpet": [
           {
            "colorbar": {
             "outlinewidth": 0,
             "ticks": ""
            },
            "type": "contourcarpet"
           }
          ],
          "heatmap": [
           {
            "colorbar": {
             "outlinewidth": 0,
             "ticks": ""
            },
            "colorscale": [
             [
              0,
              "#0d0887"
             ],
             [
              0.1111111111111111,
              "#46039f"
             ],
             [
              0.2222222222222222,
              "#7201a8"
             ],
             [
              0.3333333333333333,
              "#9c179e"
             ],
             [
              0.4444444444444444,
              "#bd3786"
             ],
             [
              0.5555555555555556,
              "#d8576b"
             ],
             [
              0.6666666666666666,
              "#ed7953"
             ],
             [
              0.7777777777777778,
              "#fb9f3a"
             ],
             [
              0.8888888888888888,
              "#fdca26"
             ],
             [
              1,
              "#f0f921"
             ]
            ],
            "type": "heatmap"
           }
          ],
          "heatmapgl": [
           {
            "colorbar": {
             "outlinewidth": 0,
             "ticks": ""
            },
            "colorscale": [
             [
              0,
              "#0d0887"
             ],
             [
              0.1111111111111111,
              "#46039f"
             ],
             [
              0.2222222222222222,
              "#7201a8"
             ],
             [
              0.3333333333333333,
              "#9c179e"
             ],
             [
              0.4444444444444444,
              "#bd3786"
             ],
             [
              0.5555555555555556,
              "#d8576b"
             ],
             [
              0.6666666666666666,
              "#ed7953"
             ],
             [
              0.7777777777777778,
              "#fb9f3a"
             ],
             [
              0.8888888888888888,
              "#fdca26"
             ],
             [
              1,
              "#f0f921"
             ]
            ],
            "type": "heatmapgl"
           }
          ],
          "histogram": [
           {
            "marker": {
             "pattern": {
              "fillmode": "overlay",
              "size": 10,
              "solidity": 0.2
             }
            },
            "type": "histogram"
           }
          ],
          "histogram2d": [
           {
            "colorbar": {
             "outlinewidth": 0,
             "ticks": ""
            },
            "colorscale": [
             [
              0,
              "#0d0887"
             ],
             [
              0.1111111111111111,
              "#46039f"
             ],
             [
              0.2222222222222222,
              "#7201a8"
             ],
             [
              0.3333333333333333,
              "#9c179e"
             ],
             [
              0.4444444444444444,
              "#bd3786"
             ],
             [
              0.5555555555555556,
              "#d8576b"
             ],
             [
              0.6666666666666666,
              "#ed7953"
             ],
             [
              0.7777777777777778,
              "#fb9f3a"
             ],
             [
              0.8888888888888888,
              "#fdca26"
             ],
             [
              1,
              "#f0f921"
             ]
            ],
            "type": "histogram2d"
           }
          ],
          "histogram2dcontour": [
           {
            "colorbar": {
             "outlinewidth": 0,
             "ticks": ""
            },
            "colorscale": [
             [
              0,
              "#0d0887"
             ],
             [
              0.1111111111111111,
              "#46039f"
             ],
             [
              0.2222222222222222,
              "#7201a8"
             ],
             [
              0.3333333333333333,
              "#9c179e"
             ],
             [
              0.4444444444444444,
              "#bd3786"
             ],
             [
              0.5555555555555556,
              "#d8576b"
             ],
             [
              0.6666666666666666,
              "#ed7953"
             ],
             [
              0.7777777777777778,
              "#fb9f3a"
             ],
             [
              0.8888888888888888,
              "#fdca26"
             ],
             [
              1,
              "#f0f921"
             ]
            ],
            "type": "histogram2dcontour"
           }
          ],
          "mesh3d": [
           {
            "colorbar": {
             "outlinewidth": 0,
             "ticks": ""
            },
            "type": "mesh3d"
           }
          ],
          "parcoords": [
           {
            "line": {
             "colorbar": {
              "outlinewidth": 0,
              "ticks": ""
             }
            },
            "type": "parcoords"
           }
          ],
          "pie": [
           {
            "automargin": true,
            "type": "pie"
           }
          ],
          "scatter": [
           {
            "fillpattern": {
             "fillmode": "overlay",
             "size": 10,
             "solidity": 0.2
            },
            "type": "scatter"
           }
          ],
          "scatter3d": [
           {
            "line": {
             "colorbar": {
              "outlinewidth": 0,
              "ticks": ""
             }
            },
            "marker": {
             "colorbar": {
              "outlinewidth": 0,
              "ticks": ""
             }
            },
            "type": "scatter3d"
           }
          ],
          "scattercarpet": [
           {
            "marker": {
             "colorbar": {
              "outlinewidth": 0,
              "ticks": ""
             }
            },
            "type": "scattercarpet"
           }
          ],
          "scattergeo": [
           {
            "marker": {
             "colorbar": {
              "outlinewidth": 0,
              "ticks": ""
             }
            },
            "type": "scattergeo"
           }
          ],
          "scattergl": [
           {
            "marker": {
             "colorbar": {
              "outlinewidth": 0,
              "ticks": ""
             }
            },
            "type": "scattergl"
           }
          ],
          "scattermapbox": [
           {
            "marker": {
             "colorbar": {
              "outlinewidth": 0,
              "ticks": ""
             }
            },
            "type": "scattermapbox"
           }
          ],
          "scatterpolar": [
           {
            "marker": {
             "colorbar": {
              "outlinewidth": 0,
              "ticks": ""
             }
            },
            "type": "scatterpolar"
           }
          ],
          "scatterpolargl": [
           {
            "marker": {
             "colorbar": {
              "outlinewidth": 0,
              "ticks": ""
             }
            },
            "type": "scatterpolargl"
           }
          ],
          "scatterternary": [
           {
            "marker": {
             "colorbar": {
              "outlinewidth": 0,
              "ticks": ""
             }
            },
            "type": "scatterternary"
           }
          ],
          "surface": [
           {
            "colorbar": {
             "outlinewidth": 0,
             "ticks": ""
            },
            "colorscale": [
             [
              0,
              "#0d0887"
             ],
             [
              0.1111111111111111,
              "#46039f"
             ],
             [
              0.2222222222222222,
              "#7201a8"
             ],
             [
              0.3333333333333333,
              "#9c179e"
             ],
             [
              0.4444444444444444,
              "#bd3786"
             ],
             [
              0.5555555555555556,
              "#d8576b"
             ],
             [
              0.6666666666666666,
              "#ed7953"
             ],
             [
              0.7777777777777778,
              "#fb9f3a"
             ],
             [
              0.8888888888888888,
              "#fdca26"
             ],
             [
              1,
              "#f0f921"
             ]
            ],
            "type": "surface"
           }
          ],
          "table": [
           {
            "cells": {
             "fill": {
              "color": "#EBF0F8"
             },
             "line": {
              "color": "white"
             }
            },
            "header": {
             "fill": {
              "color": "#C8D4E3"
             },
             "line": {
              "color": "white"
             }
            },
            "type": "table"
           }
          ]
         },
         "layout": {
          "annotationdefaults": {
           "arrowcolor": "#2a3f5f",
           "arrowhead": 0,
           "arrowwidth": 1
          },
          "autotypenumbers": "strict",
          "coloraxis": {
           "colorbar": {
            "outlinewidth": 0,
            "ticks": ""
           }
          },
          "colorscale": {
           "diverging": [
            [
             0,
             "#8e0152"
            ],
            [
             0.1,
             "#c51b7d"
            ],
            [
             0.2,
             "#de77ae"
            ],
            [
             0.3,
             "#f1b6da"
            ],
            [
             0.4,
             "#fde0ef"
            ],
            [
             0.5,
             "#f7f7f7"
            ],
            [
             0.6,
             "#e6f5d0"
            ],
            [
             0.7,
             "#b8e186"
            ],
            [
             0.8,
             "#7fbc41"
            ],
            [
             0.9,
             "#4d9221"
            ],
            [
             1,
             "#276419"
            ]
           ],
           "sequential": [
            [
             0,
             "#0d0887"
            ],
            [
             0.1111111111111111,
             "#46039f"
            ],
            [
             0.2222222222222222,
             "#7201a8"
            ],
            [
             0.3333333333333333,
             "#9c179e"
            ],
            [
             0.4444444444444444,
             "#bd3786"
            ],
            [
             0.5555555555555556,
             "#d8576b"
            ],
            [
             0.6666666666666666,
             "#ed7953"
            ],
            [
             0.7777777777777778,
             "#fb9f3a"
            ],
            [
             0.8888888888888888,
             "#fdca26"
            ],
            [
             1,
             "#f0f921"
            ]
           ],
           "sequentialminus": [
            [
             0,
             "#0d0887"
            ],
            [
             0.1111111111111111,
             "#46039f"
            ],
            [
             0.2222222222222222,
             "#7201a8"
            ],
            [
             0.3333333333333333,
             "#9c179e"
            ],
            [
             0.4444444444444444,
             "#bd3786"
            ],
            [
             0.5555555555555556,
             "#d8576b"
            ],
            [
             0.6666666666666666,
             "#ed7953"
            ],
            [
             0.7777777777777778,
             "#fb9f3a"
            ],
            [
             0.8888888888888888,
             "#fdca26"
            ],
            [
             1,
             "#f0f921"
            ]
           ]
          },
          "colorway": [
           "#636efa",
           "#EF553B",
           "#00cc96",
           "#ab63fa",
           "#FFA15A",
           "#19d3f3",
           "#FF6692",
           "#B6E880",
           "#FF97FF",
           "#FECB52"
          ],
          "font": {
           "color": "#2a3f5f"
          },
          "geo": {
           "bgcolor": "white",
           "lakecolor": "white",
           "landcolor": "#E5ECF6",
           "showlakes": true,
           "showland": true,
           "subunitcolor": "white"
          },
          "hoverlabel": {
           "align": "left"
          },
          "hovermode": "closest",
          "mapbox": {
           "style": "light"
          },
          "paper_bgcolor": "white",
          "plot_bgcolor": "#E5ECF6",
          "polar": {
           "angularaxis": {
            "gridcolor": "white",
            "linecolor": "white",
            "ticks": ""
           },
           "bgcolor": "#E5ECF6",
           "radialaxis": {
            "gridcolor": "white",
            "linecolor": "white",
            "ticks": ""
           }
          },
          "scene": {
           "xaxis": {
            "backgroundcolor": "#E5ECF6",
            "gridcolor": "white",
            "gridwidth": 2,
            "linecolor": "white",
            "showbackground": true,
            "ticks": "",
            "zerolinecolor": "white"
           },
           "yaxis": {
            "backgroundcolor": "#E5ECF6",
            "gridcolor": "white",
            "gridwidth": 2,
            "linecolor": "white",
            "showbackground": true,
            "ticks": "",
            "zerolinecolor": "white"
           },
           "zaxis": {
            "backgroundcolor": "#E5ECF6",
            "gridcolor": "white",
            "gridwidth": 2,
            "linecolor": "white",
            "showbackground": true,
            "ticks": "",
            "zerolinecolor": "white"
           }
          },
          "shapedefaults": {
           "line": {
            "color": "#2a3f5f"
           }
          },
          "ternary": {
           "aaxis": {
            "gridcolor": "white",
            "linecolor": "white",
            "ticks": ""
           },
           "baxis": {
            "gridcolor": "white",
            "linecolor": "white",
            "ticks": ""
           },
           "bgcolor": "#E5ECF6",
           "caxis": {
            "gridcolor": "white",
            "linecolor": "white",
            "ticks": ""
           }
          },
          "title": {
           "x": 0.05
          },
          "xaxis": {
           "automargin": true,
           "gridcolor": "white",
           "linecolor": "white",
           "ticks": "",
           "title": {
            "standoff": 15
           },
           "zerolinecolor": "white",
           "zerolinewidth": 2
          },
          "yaxis": {
           "automargin": true,
           "gridcolor": "white",
           "linecolor": "white",
           "ticks": "",
           "title": {
            "standoff": 15
           },
           "zerolinecolor": "white",
           "zerolinewidth": 2
          }
         }
        }
       }
      }
     },
     "metadata": {},
     "output_type": "display_data"
    }
   ],
   "source": [
    "import plotly.express as px\n",
    "\n",
    "# Filter out rows with missing coordinates\n",
    "df_filtered = df.dropna(subset=['latitude', 'longitude'])\n",
    "\n",
    "# Create a scatter mapbox plot\n",
    "fig = px.scatter_mapbox(df_filtered,\n",
    "                        lat='latitude',\n",
    "                        lon='longitude',\n",
    "                        hover_name='name',\n",
    "                        hover_data=['description', 'address', 'average rating'],\n",
    "                        zoom=10,\n",
    "                        height=600)\n",
    "\n",
    "# Update layout for mapbox\n",
    "fig.update_layout(mapbox_style=\"open-street-map\")\n",
    "\n",
    "# Show the plot\n",
    "fig.show()"
   ]
  },
  {
   "cell_type": "code",
   "execution_count": 5,
   "metadata": {},
   "outputs": [
    {
     "data": {
      "text/plain": [
       "Index(['name', 'website', 'description', 'phone', 'address', 'average rating',\n",
       "       'store shopping', 'in store pickup', 'delivery', 'type', 'opens at',\n",
       "       'reviews', 'category', 'latitude', 'longitude'],\n",
       "      dtype='object')"
      ]
     },
     "execution_count": 5,
     "metadata": {},
     "output_type": "execute_result"
    }
   ],
   "source": [
    "df.columns"
   ]
  },
  {
   "cell_type": "code",
   "execution_count": null,
   "metadata": {},
   "outputs": [],
   "source": []
  }
 ],
 "metadata": {
  "kernelspec": {
   "display_name": "envConnectedParches",
   "language": "python",
   "name": "python3"
  },
  "language_info": {
   "codemirror_mode": {
    "name": "ipython",
    "version": 3
   },
   "file_extension": ".py",
   "mimetype": "text/x-python",
   "name": "python",
   "nbconvert_exporter": "python",
   "pygments_lexer": "ipython3",
   "version": "3.9.20"
  }
 },
 "nbformat": 4,
 "nbformat_minor": 2
}
